{
 "cells": [
  {
   "cell_type": "markdown",
   "id": "6fc835a4-143f-4719-89c8-bf620e7fe932",
   "metadata": {},
   "source": [
    "# Logistic Regression: A Comprehensive Overview\n",
    "\n",
    "Logistic regression is a fundamental algorithm used for classification tasks. Unlike linear regression, which predicts continuous outcomes, logistic regression is used to predict discrete outcomes by estimating probabilities. This report explores the theory, mathematics, and applications of logistic regression.\n"
   ]
  },
  {
   "cell_type": "markdown",
   "id": "08dbb647-50d6-428f-907f-c09591a3dacf",
   "metadata": {},
   "source": [
    "# Logistic Regression Model\n",
    "\n",
    "### The Sigmoid Function\n",
    "\n",
    "The sigmoid (or logistic) function maps real numbers to probabilities in the range (0, 1). It is defined as:\n",
    "\n",
    "$$\n",
    "\\sigma(z) = \\frac{1}{1 + e^{-z}}\n",
    "$$\n",
    "\n",
    "Where:\n",
    "- $z$ is the linear combination of input features and their weights.\n",
    "- $\\sigma(z)$ outputs the predicted probability.\n",
    "\n",
    "### Model Equation\n",
    "\n",
    "The logistic regression model predicts the probability of the positive class ($y = 1$):\n",
    "\n",
    "$$\n",
    "P(y=1|\\mathbf{x}) = \\hat{y} = \\sigma(\\mathbf{w}^T \\mathbf{x} + b)\n",
    "$$\n",
    "\n",
    "Where:\n",
    "- $\\mathbf{x}$: Feature vector.\n",
    "- $\\mathbf{w}$: Weight vector.\n",
    "- $b$: Bias term.\n",
    "- $\\hat{y}$: Predicted probability.\n",
    "\n",
    "The decision boundary is defined as:\n",
    "\n",
    "$$\n",
    "\\mathbf{w}^T \\mathbf{x} + b = 0\n",
    "$$\n",
    "\n",
    "---\n",
    "\n",
    "## Cost Function\n",
    "\n",
    "The cost function for logistic regression is based on the likelihood of the data. The objective is to maximize the likelihood of the observed data under the model. The negative log-likelihood is minimized instead, leading to the logistic regression cost function:\n",
    "\n",
    "$$\n",
    "J(\\mathbf{w}, b) = - \\frac{1}{n} \\sum_{i=1}^n \\left[ y_i \\log(\\hat{y}_i) + (1 - y_i) \\log(1 - \\hat{y}_i) \\right]\n",
    "$$\n",
    "Where:\n",
    "- $n$: Number of training examples.\n",
    "- $y_i$: Actual label for the $i$-th example.\n",
    "- $\\hat{y}_i$: Predicted probability for the $i$-th example.\n",
    "\n",
    "---"
   ]
  },
  {
   "cell_type": "markdown",
   "id": "e191a9a8-414f-47c5-af71-345ce35b3d9b",
   "metadata": {},
   "source": [
    "### Gradient of the Cost Function\n",
    "\n",
    "The gradients of the cost function with respect to the parameters are:\n",
    "\n",
    "1. Gradient with respect to weights:\n",
    "   $$\n",
    "   \\frac{\\partial J}{\\partial \\mathbf{w}} = \\frac{1}{n} \\sum_{i=1}^n (\\hat{y}_i - y_i) \\mathbf{x}_i\n",
    "   $$\n",
    "\n",
    "2. Gradient with respect to bias:\n",
    "   $$\n",
    "   \\frac{\\partial J}{\\partial b} = \\frac{1}{n} \\sum_{i=1}^n (\\hat{y}_i - y_i)\n",
    "   $$\n",
    "\n",
    "### Update Rules\n",
    "\n",
    "1. Update weights:\n",
    "   $$\n",
    "   \\mathbf{w} \\leftarrow \\mathbf{w} - \\alpha \\frac{\\partial J}{\\partial \\mathbf{w}}\n",
    "   $$\n",
    "\n",
    "2. Update bias:\n",
    "   $$\n",
    "   b \\leftarrow b - \\alpha \\frac{\\partial J}{\\partial b}\n",
    "   $$\n",
    "\n",
    "Where:\n",
    "- $\\alpha$: Learning rate.\n",
    "\n",
    "---\n"
   ]
  },
  {
   "cell_type": "markdown",
   "id": "e0fb8c95-e2fa-4674-a674-17a812f5404a",
   "metadata": {},
   "source": [
    "## Assumptions\n",
    "\n",
    "1. **Linearity of Features:** Logistic regression assumes a linear relationship between input features and the log-odds of the target.\n",
    "2. **Independence of Observations:** Observations are assumed to be independent of each other.\n",
    "3. **No Multicollinearity:** Independent variables should not be highly correlated.\n",
    "4. **Sufficient Sample Size:** Logistic regression performs best with a large sample size.\n",
    "\n",
    "---"
   ]
  },
  {
   "cell_type": "markdown",
   "id": "4883d2cf-6f09-4865-82c1-f7b0318aee6b",
   "metadata": {},
   "source": [
    "### STEP 1: Import Libraies and dataset"
   ]
  },
  {
   "cell_type": "code",
   "execution_count": 15,
   "id": "6ba44950-d211-4312-ab71-e5af34f6c89d",
   "metadata": {},
   "outputs": [],
   "source": [
    "import pandas as pd\n",
    "import numpy as np\n",
    "import matplotlib.pyplot as plt\n",
    "\n",
    "# Load the dataset\n",
    "data = pd.read_csv('titanic.csv')"
   ]
  },
  {
   "cell_type": "markdown",
   "id": "1e2f11fc-205d-4450-94a0-720fe1d20fd9",
   "metadata": {},
   "source": [
    "### Data Prepocessing\n",
    "1. Drop irrelevant columns\n",
    "2. Fill missing values\n",
    "3. Encode categorical features\n",
    "4. Normalize continuous features\n",
    "5. Separate features and target\n",
    "6. Split data into training and test sets (80-20 split)"
   ]
  },
  {
   "cell_type": "code",
   "execution_count": 17,
   "id": "11434f84-24c6-4865-b13b-b661bf619739",
   "metadata": {},
   "outputs": [],
   "source": [
    "data = data.drop(['PassengerId', 'Name', 'Ticket', 'Cabin'], axis=1)\n",
    "\n",
    "data['Age'].fillna(data['Age'].median(), inplace=True)\n",
    "data['Embarked'].fillna(data['Embarked'].mode()[0], inplace=True)\n",
    "\n",
    "data['Sex'] = data['Sex'].map({'male': 0, 'female': 1})\n",
    "data = pd.get_dummies(data, columns=['Embarked'], drop_first=True)\n",
    "\n",
    "data['Age'] = (data['Age'] - data['Age'].mean()) / data['Age'].std()\n",
    "data['Fare'] = (data['Fare'] - data['Fare'].mean()) / data['Fare'].std()\n",
    "\n",
    "X = data.drop('Survived', axis=1).values.astype(np.float64) \n",
    "y = data['Survived'].values.astype(int) \n",
    "\n",
    "split_index = int(0.8 * len(X))\n",
    "X_train, X_test = X[:split_index], X[split_index:]\n",
    "y_train, y_test = y[:split_index], y[split_index:]"
   ]
  },
  {
   "cell_type": "markdown",
   "id": "7b9cd27e-f5b9-405d-862c-a111a19e8fbc",
   "metadata": {},
   "source": [
    "### Logistic Regression Implementation"
   ]
  },
  {
   "cell_type": "code",
   "execution_count": 19,
   "id": "d5de1e87-2c04-4bcd-aeba-b9b54dacf512",
   "metadata": {},
   "outputs": [],
   "source": [
    "class LogisticRegression:\n",
    "    def __init__(self, learning_rate=0.01, num_iterations=1000):\n",
    "        self.learning_rate = learning_rate\n",
    "        self.num_iterations = num_iterations\n",
    "        self.weights = None\n",
    "        self.bias = None\n",
    "\n",
    "    def sigmoid(self, z):\n",
    "        z = np.asarray(z, dtype=np.float64)  \n",
    "        return 1 / (1 + np.exp(-z))\n",
    "\n",
    "    def fit(self, X, y):\n",
    "        num_samples, num_features = X.shape\n",
    "        self.weights = np.zeros(num_features, dtype=np.float64) \n",
    "        self.bias = 0.0  \n",
    "\n",
    "        for _ in range(self.num_iterations):\n",
    "            linear_model = np.dot(X, self.weights) + self.bias\n",
    "            y_predicted = self.sigmoid(linear_model)\n",
    "\n",
    "            dw = (1 / num_samples) * np.dot(X.T, (y_predicted - y))\n",
    "            db = (1 / num_samples) * np.sum(y_predicted - y)\n",
    "\n",
    "            self.weights -= self.learning_rate * dw\n",
    "            self.bias -= self.learning_rate * db\n",
    "\n",
    "    def predict(self, X):\n",
    "        linear_model = np.dot(X, self.weights) + self.bias\n",
    "        y_predicted = self.sigmoid(linear_model)\n",
    "        y_predicted_class = [1 if i > 0.5 else 0 for i in y_predicted]\n",
    "        return np.array(y_predicted_class)\n"
   ]
  },
  {
   "cell_type": "markdown",
   "id": "8a51fd2f-49a9-4dfd-80a5-200c9bbbc469",
   "metadata": {},
   "source": [
    "### Train the model and Evaluate it"
   ]
  },
  {
   "cell_type": "code",
   "execution_count": 21,
   "id": "d5305206-f4b0-4d52-9dd9-73414cbbfe13",
   "metadata": {},
   "outputs": [
    {
     "name": "stdout",
     "output_type": "stream",
     "text": [
      "Accuracy: 0.8324\n",
      "Precision: 0.8148\n",
      "Recall: 0.6875\n"
     ]
    }
   ],
   "source": [
    "model = LogisticRegression(learning_rate=0.1, num_iterations=1000)\n",
    "model.fit(X_train, y_train)\n",
    "\n",
    "def accuracy(y_true, y_pred):\n",
    "    return np.sum(y_true == y_pred) / len(y_true)\n",
    "\n",
    "accuracy_score = accuracy(y_test, y_pred)\n",
    "print(f'Accuracy: {accuracy_score:.4f}')\n",
    "\n",
    "def precision(y_true, y_pred):\n",
    "    true_positive = np.sum((y_true == 1) & (y_pred == 1))\n",
    "    false_positive = np.sum((y_true == 0) & (y_pred == 1))\n",
    "    return true_positive / (true_positive + false_positive) if (true_positive + false_positive) > 0 else 0\n",
    "\n",
    "def recall(y_true, y_pred):\n",
    "    true_positive = np.sum((y_true == 1) & (y_pred == 1))\n",
    "    false_negative = np.sum((y_true == 1) & (y_pred == 0))\n",
    "    return true_positive / (true_positive + false_negative) if (true_positive + false_negative) > 0 else 0\n",
    "\n",
    "precision_score = precision(y_test, y_pred)\n",
    "recall_score = recall(y_test, y_pred)\n",
    "\n",
    "print(f'Precision: {precision_score:.4f}')\n",
    "print(f'Recall: {recall_score:.4f}')\n"
   ]
  },
  {
   "cell_type": "markdown",
   "id": "e015c06a-a3e7-45c6-a760-e74fc499b197",
   "metadata": {},
   "source": [
    "### Confusion Matrix"
   ]
  },
  {
   "cell_type": "code",
   "execution_count": 23,
   "id": "afe10b9d-c283-46d1-97f5-371fa0c27226",
   "metadata": {},
   "outputs": [
    {
     "name": "stdout",
     "output_type": "stream",
     "text": [
      "Predicted    0   1  All\n",
      "Actual                 \n",
      "0          105  10  115\n",
      "1           20  44   64\n",
      "All        125  54  179\n"
     ]
    },
    {
     "data": {
      "image/png": "[encoded data removed]",
      "text/plain": [
       "<Figure size 800x600 with 2 Axes>"
      ]
     },
     "metadata": {},
     "output_type": "display_data"
    },
    {
     "data": {
      "image/png": "[encoded data removed]",
      "text/plain": [
       "<Figure size 1000x600 with 1 Axes>"
      ]
     },
     "metadata": {},
     "output_type": "display_data"
    }
   ],
   "source": [
    "def confusion_matrix(y_true, y_pred):\n",
    "    cm = pd.crosstab(y_true, y_pred, rownames=['Actual'], colnames=['Predicted'], margins=True)\n",
    "    return cm\n",
    "\n",
    "cm = confusion_matrix(y_test, y_pred)\n",
    "print(cm)\n",
    "\n",
    "plt.figure(figsize=(8, 6))\n",
    "plt.imshow(cm, interpolation='nearest', cmap=plt.cm.Blues)\n",
    "plt.title('Confusion Matrix')\n",
    "plt.colorbar()\n",
    "tick_marks = np.arange(len(cm))\n",
    "plt.xticks(tick_marks, cm.columns, rotation=45)\n",
    "plt.yticks(tick_marks, cm.index)\n",
    "plt.xlabel('Predicted Label')\n",
    "plt.ylabel('True Label')\n",
    "plt.show()\n",
    "\n",
    "plt.figure(figsize=(10, 6))\n",
    "plt.bar(range(len(model.weights)), model.weights)\n",
    "plt.title('Feature Weights')\n",
    "plt.xlabel('Feature Index')\n",
    "plt.ylabel('Weight Value')\n",
    "plt.xticks(range(len(model.weights)), [f'Feature {i}' for i in range(len(model.weights))], rotation=45)\n",
    "plt.show()\n"
   ]
  },
  {
   "cell_type": "code",
   "execution_count": null,
   "id": "81f2ecd2-53d5-42cb-8a62-cb5f5042439f",
   "metadata": {},
   "outputs": [],
   "source": []
  }
 ],
 "metadata": {
  "kernelspec": {
   "display_name": "Python 3 (ipykernel)",
   "language": "python",
   "name": "python3"
  },
  "language_info": {
   "codemirror_mode": {
    "name": "ipython",
    "version": 3
   },
   "file_extension": ".py",
   "mimetype": "text/x-python",
   "name": "python",
   "nbconvert_exporter": "python",
   "pygments_lexer": "ipython3",
   "version": "3.11.8"
  }
 },
 "nbformat": 4,
 "nbformat_minor": 5
}
