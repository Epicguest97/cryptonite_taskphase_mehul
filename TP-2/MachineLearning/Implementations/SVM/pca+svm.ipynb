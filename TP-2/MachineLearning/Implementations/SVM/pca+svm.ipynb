{
 "cells": [
  {
   "cell_type": "code",
   "execution_count": 16,
   "id": "07ce0b9a-333f-4eba-87a3-4a94968449e5",
   "metadata": {},
   "outputs": [],
   "source": [
    "import pandas as pd\n",
    "import numpy as np\n",
    "import matplotlib.pyplot as plt\n",
    "\n",
    "# Load Titanic dataset\n",
    "file_path = 'titanic.csv'  # Adjust this if needed\n",
    "titanic_data = pd.read_csv(file_path)"
   ]
  },
  {
   "cell_type": "code",
   "execution_count": 18,
   "id": "5341a847-05a2-4783-8db1-bed0fb2b6715",
   "metadata": {},
   "outputs": [],
   "source": [
    "# Step 1: Preprocessing\n",
    "# Drop irrelevant features\n",
    "titanic_data_cleaned = titanic_data.drop(columns=['PassengerId', 'Name', 'Ticket', 'Cabin'])\n",
    "\n",
    "# Handle missing values\n",
    "titanic_data_cleaned['Age'].fillna(titanic_data_cleaned['Age'].mean(), inplace=True)  # Fill Age with mean\n",
    "titanic_data_cleaned['Embarked'].fillna('missing', inplace=True)  # Fill Embarked with placeholder\n",
    "\n",
    "# Encode categorical variables\n",
    "titanic_data_encoded = pd.get_dummies(titanic_data_cleaned, drop_first=True)\n",
    "\n",
    "# Separate features and target variable\n",
    "X = titanic_data_encoded.drop(columns=['Survived'])\n",
    "y = titanic_data_encoded['Survived']"
   ]
  },
  {
   "cell_type": "code",
   "execution_count": 20,
   "id": "8e6fb74e-c02b-40cf-add4-798a3210b1e2",
   "metadata": {},
   "outputs": [],
   "source": [
    "# Step 2: Standardize the data\n",
    "X_mean = X.mean()\n",
    "X_std = X.std()\n",
    "X_standardized = (X - X_mean) / X_std"
   ]
  },
  {
   "cell_type": "code",
   "execution_count": 22,
   "id": "8b6c97de-e19d-4f5f-96bd-f47bb50ff152",
   "metadata": {},
   "outputs": [],
   "source": [
    "# Step 3: Compute the covariance matrix\n",
    "cov_matrix = np.cov(X_standardized.T)"
   ]
  },
  {
   "cell_type": "code",
   "execution_count": 24,
   "id": "7c10a29e-ae99-49e5-b56b-60675582f3f5",
   "metadata": {},
   "outputs": [],
   "source": [
    "# Step 4: Compute eigenvalues and eigenvectors\n",
    "eigenvalues, eigenvectors = np.linalg.eig(cov_matrix)"
   ]
  },
  {
   "cell_type": "code",
   "execution_count": 26,
   "id": "b6a34175-58bc-478f-bf46-2b9539eb7d13",
   "metadata": {},
   "outputs": [],
   "source": [
    "# Step 5: Sort eigenvalues and eigenvectors in descending order\n",
    "sorted_indices = np.argsort(eigenvalues)[::-1]\n",
    "eigenvalues = eigenvalues[sorted_indices]\n",
    "eigenvectors = eigenvectors[:, sorted_indices]"
   ]
  },
  {
   "cell_type": "code",
   "execution_count": 34,
   "id": "82e733b5-16dd-4aba-8669-8a4dd54a5e61",
   "metadata": {},
   "outputs": [
    {
     "name": "stdout",
     "output_type": "stream",
     "text": [
      "Explained Variance Ratio: [0.2052705  0.19121186 0.17205714 0.10949081 0.09226028]\n"
     ]
    }
   ],
   "source": [
    "# Step 6: Project data onto the top 4 principal components\n",
    "k = 5  # Number of principal components\n",
    "top_eigenvectors = eigenvectors[:, :k]\n",
    "X_pca = np.dot(X_standardized, top_eigenvectors)\n",
    "# Step 7: Explained variance ratio\n",
    "explained_variance_ratio = eigenvalues / np.sum(eigenvalues)\n",
    "# Print explained variance ratio\n",
    "print(\"Explained Variance Ratio:\", explained_variance_ratio[:k])"
   ]
  },
  {
   "cell_type": "code",
   "execution_count": 36,
   "id": "8fd9a495-1274-4179-b50b-bba92eb0a364",
   "metadata": {},
   "outputs": [],
   "source": [
    "X=X_pca"
   ]
  },
  {
   "cell_type": "code",
   "execution_count": 38,
   "id": "330572f5-f758-4b8d-81cd-52e04ef15e6c",
   "metadata": {},
   "outputs": [
    {
     "name": "stdout",
     "output_type": "stream",
     "text": [
      "Accuracy: 77.67%\n",
      "Precision: 70.61%\n",
      "Recall: 71.64%\n",
      "F1 Score: 71.12%\n"
     ]
    }
   ],
   "source": [
    "# Step 2: Implement Linear SVM (Primal form)\n",
    "def hinge_loss(w, X, y, C=1):\n",
    "    return 0.5 * np.dot(w, w) + C * np.sum(np.maximum(0, 1 - y * (np.dot(X, w))))\n",
    "\n",
    "def gradient(w, X, y, C=1):\n",
    "    return w - C * np.dot(X.T, (y * (np.maximum(0, 1 - y * np.dot(X, w)))))\n",
    "\n",
    "# Step 3: Train the model using Gradient Descent\n",
    "def train_svm(X, y, learning_rate=0.001, epochs=1000, C=1):\n",
    "    w = np.zeros(X.shape[1])\n",
    "    y = 2 * y - 1  # Convert target to {-1, 1}\n",
    "    \n",
    "    for epoch in range(epochs):\n",
    "        grad = gradient(w, X, y, C)\n",
    "        w -= learning_rate * grad\n",
    "        \n",
    "        # if epoch % 100 == 0:\n",
    "        #     loss = hinge_loss(w, X, y, C)\n",
    "        #     print(f\"Epoch {epoch}: Loss = {loss}\")\n",
    "    \n",
    "    return w\n",
    "\n",
    "# Train the SVM model\n",
    "w = train_svm(X, y, learning_rate=0.001, epochs=1000, C=1)\n",
    "\n",
    "# Predict with SVM\n",
    "y_pred = np.sign(np.dot(X, w))  # Predictions in -1, 1\n",
    "\n",
    "# Convert y_pred back to 0/1 for metrics calculation\n",
    "y_pred_binary = np.where(y_pred == -1, 0, 1)\n",
    "\n",
    "# Calculate metrics\n",
    "TP = np.sum((y_pred_binary == 1) & (y == 1))\n",
    "TN = np.sum((y_pred_binary == 0) & (y == 0))\n",
    "FP = np.sum((y_pred_binary == 1) & (y == 0))\n",
    "FN = np.sum((y_pred_binary == 0) & (y == 1))\n",
    "\n",
    "accuracy = (TP + TN) / (TP + TN + FP + FN)\n",
    "precision = TP / (TP + FP) if (TP + FP) != 0 else 0\n",
    "recall = TP / (TP + FN) if (TP + FN) != 0 else 0\n",
    "f1_score = 2 * (precision * recall) / (precision + recall) if (precision + recall) != 0 else 0\n",
    "\n",
    "# Display metrics\n",
    "print(f\"Accuracy: {accuracy * 100:.2f}%\")\n",
    "print(f\"Precision: {precision * 100:.2f}%\")\n",
    "print(f\"Recall: {recall * 100:.2f}%\")\n",
    "print(f\"F1 Score: {f1_score * 100:.2f}%\")"
   ]
  },
  {
   "cell_type": "code",
   "execution_count": null,
   "id": "fff67ec7-804a-4138-8fd2-7e4888436e15",
   "metadata": {},
   "outputs": [],
   "source": []
  }
 ],
 "metadata": {
  "kernelspec": {
   "display_name": "Python 3 (ipykernel)",
   "language": "python",
   "name": "python3"
  },
  "language_info": {
   "codemirror_mode": {
    "name": "ipython",
    "version": 3
   },
   "file_extension": ".py",
   "mimetype": "text/x-python",
   "name": "python",
   "nbconvert_exporter": "python",
   "pygments_lexer": "ipython3",
   "version": "3.11.8"
  }
 },
 "nbformat": 4,
 "nbformat_minor": 5
}
